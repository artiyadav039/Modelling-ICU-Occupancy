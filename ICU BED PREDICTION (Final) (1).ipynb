{
 "cells": [
  {
   "cell_type": "code",
   "execution_count": 368,
   "metadata": {},
   "outputs": [],
   "source": [
    "# # For Data reading \n",
    "import numpy as np # linear algebra\n",
    "import pandas as pd # data processing, CSV file I/O (e.g. pd.read_csv)\n",
    "\n",
    "# For data visualization\n",
    "import matplotlib.pyplot as plt\n",
    "\n",
    "# For model building & scoreing\n",
    "from sklearn.ensemble import RandomForestRegressor\n",
    "\n",
    "# others\n",
    "import warnings\n",
    "warnings.filterwarnings('ignore')"
   ]
  },
  {
   "cell_type": "code",
   "execution_count": 369,
   "metadata": {},
   "outputs": [
    {
     "data": {
      "text/plain": [
       "(1260, 9)"
      ]
     },
     "execution_count": 369,
     "metadata": {},
     "output_type": "execute_result"
    }
   ],
   "source": [
    "df = pd.read_csv(r'C:\\Users\\artiy\\Downloads\\icu bed occupancy (1).csv')\n",
    "df.shape"
   ]
  },
  {
   "cell_type": "code",
   "execution_count": 370,
   "metadata": {},
   "outputs": [
    {
     "data": {
      "text/html": [
       "<div>\n",
       "<style scoped>\n",
       "    .dataframe tbody tr th:only-of-type {\n",
       "        vertical-align: middle;\n",
       "    }\n",
       "\n",
       "    .dataframe tbody tr th {\n",
       "        vertical-align: top;\n",
       "    }\n",
       "\n",
       "    .dataframe thead th {\n",
       "        text-align: right;\n",
       "    }\n",
       "</style>\n",
       "<table border=\"1\" class=\"dataframe\">\n",
       "  <thead>\n",
       "    <tr style=\"text-align: right;\">\n",
       "      <th></th>\n",
       "      <th>HospitalName</th>\n",
       "      <th>Day</th>\n",
       "      <th>Total ICU Bed</th>\n",
       "      <th>Available Bed</th>\n",
       "      <th>Patient admitted</th>\n",
       "      <th>Pateint discharged</th>\n",
       "      <th>Avg. Patient Age</th>\n",
       "      <th>Occupancy</th>\n",
       "      <th>% occupancy</th>\n",
       "    </tr>\n",
       "  </thead>\n",
       "  <tbody>\n",
       "    <tr>\n",
       "      <td>0</td>\n",
       "      <td>1</td>\n",
       "      <td>1</td>\n",
       "      <td>76</td>\n",
       "      <td>50</td>\n",
       "      <td>5</td>\n",
       "      <td>17</td>\n",
       "      <td>41</td>\n",
       "      <td>14</td>\n",
       "      <td>18.421</td>\n",
       "    </tr>\n",
       "    <tr>\n",
       "      <td>1</td>\n",
       "      <td>1</td>\n",
       "      <td>2</td>\n",
       "      <td>76</td>\n",
       "      <td>62</td>\n",
       "      <td>10</td>\n",
       "      <td>9</td>\n",
       "      <td>30</td>\n",
       "      <td>15</td>\n",
       "      <td>19.737</td>\n",
       "    </tr>\n",
       "    <tr>\n",
       "      <td>2</td>\n",
       "      <td>1</td>\n",
       "      <td>3</td>\n",
       "      <td>76</td>\n",
       "      <td>61</td>\n",
       "      <td>6</td>\n",
       "      <td>8</td>\n",
       "      <td>30</td>\n",
       "      <td>13</td>\n",
       "      <td>17.105</td>\n",
       "    </tr>\n",
       "    <tr>\n",
       "      <td>3</td>\n",
       "      <td>1</td>\n",
       "      <td>4</td>\n",
       "      <td>76</td>\n",
       "      <td>63</td>\n",
       "      <td>8</td>\n",
       "      <td>10</td>\n",
       "      <td>51</td>\n",
       "      <td>11</td>\n",
       "      <td>14.474</td>\n",
       "    </tr>\n",
       "    <tr>\n",
       "      <td>4</td>\n",
       "      <td>1</td>\n",
       "      <td>5</td>\n",
       "      <td>76</td>\n",
       "      <td>65</td>\n",
       "      <td>13</td>\n",
       "      <td>7</td>\n",
       "      <td>55</td>\n",
       "      <td>17</td>\n",
       "      <td>22.368</td>\n",
       "    </tr>\n",
       "  </tbody>\n",
       "</table>\n",
       "</div>"
      ],
      "text/plain": [
       "   HospitalName  Day  Total ICU Bed  Available Bed  Patient admitted  \\\n",
       "0             1    1             76             50                 5   \n",
       "1             1    2             76             62                10   \n",
       "2             1    3             76             61                 6   \n",
       "3             1    4             76             63                 8   \n",
       "4             1    5             76             65                13   \n",
       "\n",
       "   Pateint discharged  Avg. Patient Age  Occupancy  % occupancy  \n",
       "0                  17                41         14       18.421  \n",
       "1                   9                30         15       19.737  \n",
       "2                   8                30         13       17.105  \n",
       "3                  10                51         11       14.474  \n",
       "4                   7                55         17       22.368  "
      ]
     },
     "execution_count": 370,
     "metadata": {},
     "output_type": "execute_result"
    }
   ],
   "source": [
    "df.head()"
   ]
  },
  {
   "cell_type": "code",
   "execution_count": 371,
   "metadata": {},
   "outputs": [
    {
     "data": {
      "text/plain": [
       "HospitalName            int64\n",
       "Day                     int64\n",
       "Total ICU Bed           int64\n",
       "Available Bed           int64\n",
       "Patient admitted        int64\n",
       "Pateint discharged      int64\n",
       "Avg. Patient Age        int64\n",
       "Occupancy               int64\n",
       "% occupancy           float64\n",
       "dtype: object"
      ]
     },
     "execution_count": 371,
     "metadata": {},
     "output_type": "execute_result"
    }
   ],
   "source": [
    "df.dtypes"
   ]
  },
  {
   "cell_type": "markdown",
   "metadata": {},
   "source": [
    "# Data Exploration"
   ]
  },
  {
   "cell_type": "code",
   "execution_count": 372,
   "metadata": {},
   "outputs": [
    {
     "data": {
      "text/html": [
       "<div>\n",
       "<style scoped>\n",
       "    .dataframe tbody tr th:only-of-type {\n",
       "        vertical-align: middle;\n",
       "    }\n",
       "\n",
       "    .dataframe tbody tr th {\n",
       "        vertical-align: top;\n",
       "    }\n",
       "\n",
       "    .dataframe thead th {\n",
       "        text-align: right;\n",
       "    }\n",
       "</style>\n",
       "<table border=\"1\" class=\"dataframe\">\n",
       "  <thead>\n",
       "    <tr style=\"text-align: right;\">\n",
       "      <th></th>\n",
       "      <th>HospitalName</th>\n",
       "      <th>Day</th>\n",
       "      <th>Total ICU Bed</th>\n",
       "      <th>Available Bed</th>\n",
       "      <th>Patient admitted</th>\n",
       "      <th>Pateint discharged</th>\n",
       "      <th>Avg. Patient Age</th>\n",
       "      <th>Occupancy</th>\n",
       "      <th>% occupancy</th>\n",
       "    </tr>\n",
       "  </thead>\n",
       "  <tbody>\n",
       "    <tr>\n",
       "      <td>count</td>\n",
       "      <td>1260.000000</td>\n",
       "      <td>1260.000000</td>\n",
       "      <td>1260.000000</td>\n",
       "      <td>1260.000000</td>\n",
       "      <td>1260.000000</td>\n",
       "      <td>1260.000000</td>\n",
       "      <td>1260.000000</td>\n",
       "      <td>1260.000000</td>\n",
       "      <td>1260.000000</td>\n",
       "    </tr>\n",
       "    <tr>\n",
       "      <td>mean</td>\n",
       "      <td>3.500000</td>\n",
       "      <td>105.500000</td>\n",
       "      <td>87.666667</td>\n",
       "      <td>43.642063</td>\n",
       "      <td>30.919841</td>\n",
       "      <td>30.780159</td>\n",
       "      <td>44.378571</td>\n",
       "      <td>44.164286</td>\n",
       "      <td>50.236798</td>\n",
       "    </tr>\n",
       "    <tr>\n",
       "      <td>std</td>\n",
       "      <td>1.708503</td>\n",
       "      <td>60.645161</td>\n",
       "      <td>8.753077</td>\n",
       "      <td>20.167991</td>\n",
       "      <td>17.998652</td>\n",
       "      <td>14.437235</td>\n",
       "      <td>20.570158</td>\n",
       "      <td>20.710321</td>\n",
       "      <td>22.457510</td>\n",
       "    </tr>\n",
       "    <tr>\n",
       "      <td>min</td>\n",
       "      <td>1.000000</td>\n",
       "      <td>1.000000</td>\n",
       "      <td>76.000000</td>\n",
       "      <td>-5.000000</td>\n",
       "      <td>1.000000</td>\n",
       "      <td>1.000000</td>\n",
       "      <td>10.000000</td>\n",
       "      <td>-8.000000</td>\n",
       "      <td>-10.256000</td>\n",
       "    </tr>\n",
       "    <tr>\n",
       "      <td>25%</td>\n",
       "      <td>2.000000</td>\n",
       "      <td>53.000000</td>\n",
       "      <td>78.000000</td>\n",
       "      <td>30.000000</td>\n",
       "      <td>18.000000</td>\n",
       "      <td>19.000000</td>\n",
       "      <td>26.000000</td>\n",
       "      <td>28.000000</td>\n",
       "      <td>33.333000</td>\n",
       "    </tr>\n",
       "    <tr>\n",
       "      <td>50%</td>\n",
       "      <td>3.500000</td>\n",
       "      <td>105.500000</td>\n",
       "      <td>88.000000</td>\n",
       "      <td>44.000000</td>\n",
       "      <td>29.000000</td>\n",
       "      <td>30.000000</td>\n",
       "      <td>43.000000</td>\n",
       "      <td>43.000000</td>\n",
       "      <td>50.000000</td>\n",
       "    </tr>\n",
       "    <tr>\n",
       "      <td>75%</td>\n",
       "      <td>5.000000</td>\n",
       "      <td>158.000000</td>\n",
       "      <td>96.000000</td>\n",
       "      <td>58.000000</td>\n",
       "      <td>39.000000</td>\n",
       "      <td>42.000000</td>\n",
       "      <td>62.000000</td>\n",
       "      <td>57.000000</td>\n",
       "      <td>66.000000</td>\n",
       "    </tr>\n",
       "    <tr>\n",
       "      <td>max</td>\n",
       "      <td>6.000000</td>\n",
       "      <td>210.000000</td>\n",
       "      <td>100.000000</td>\n",
       "      <td>98.000000</td>\n",
       "      <td>96.000000</td>\n",
       "      <td>95.000000</td>\n",
       "      <td>80.000000</td>\n",
       "      <td>101.000000</td>\n",
       "      <td>105.208000</td>\n",
       "    </tr>\n",
       "  </tbody>\n",
       "</table>\n",
       "</div>"
      ],
      "text/plain": [
       "       HospitalName          Day  Total ICU Bed  Available Bed  \\\n",
       "count   1260.000000  1260.000000    1260.000000    1260.000000   \n",
       "mean       3.500000   105.500000      87.666667      43.642063   \n",
       "std        1.708503    60.645161       8.753077      20.167991   \n",
       "min        1.000000     1.000000      76.000000      -5.000000   \n",
       "25%        2.000000    53.000000      78.000000      30.000000   \n",
       "50%        3.500000   105.500000      88.000000      44.000000   \n",
       "75%        5.000000   158.000000      96.000000      58.000000   \n",
       "max        6.000000   210.000000     100.000000      98.000000   \n",
       "\n",
       "       Patient admitted  Pateint discharged  Avg. Patient Age    Occupancy  \\\n",
       "count       1260.000000         1260.000000       1260.000000  1260.000000   \n",
       "mean          30.919841           30.780159         44.378571    44.164286   \n",
       "std           17.998652           14.437235         20.570158    20.710321   \n",
       "min            1.000000            1.000000         10.000000    -8.000000   \n",
       "25%           18.000000           19.000000         26.000000    28.000000   \n",
       "50%           29.000000           30.000000         43.000000    43.000000   \n",
       "75%           39.000000           42.000000         62.000000    57.000000   \n",
       "max           96.000000           95.000000         80.000000   101.000000   \n",
       "\n",
       "       % occupancy  \n",
       "count  1260.000000  \n",
       "mean     50.236798  \n",
       "std      22.457510  \n",
       "min     -10.256000  \n",
       "25%      33.333000  \n",
       "50%      50.000000  \n",
       "75%      66.000000  \n",
       "max     105.208000  "
      ]
     },
     "execution_count": 372,
     "metadata": {},
     "output_type": "execute_result"
    }
   ],
   "source": [
    "df.describe()"
   ]
  },
  {
   "cell_type": "code",
   "execution_count": 373,
   "metadata": {},
   "outputs": [
    {
     "data": {
      "text/html": [
       "<div>\n",
       "<style scoped>\n",
       "    .dataframe tbody tr th:only-of-type {\n",
       "        vertical-align: middle;\n",
       "    }\n",
       "\n",
       "    .dataframe tbody tr th {\n",
       "        vertical-align: top;\n",
       "    }\n",
       "\n",
       "    .dataframe thead th {\n",
       "        text-align: right;\n",
       "    }\n",
       "</style>\n",
       "<table border=\"1\" class=\"dataframe\">\n",
       "  <thead>\n",
       "    <tr style=\"text-align: right;\">\n",
       "      <th></th>\n",
       "      <th>HospitalName</th>\n",
       "      <th>Day</th>\n",
       "      <th>Total ICU Bed</th>\n",
       "      <th>Available Bed</th>\n",
       "      <th>Patient admitted</th>\n",
       "      <th>Pateint discharged</th>\n",
       "      <th>Avg. Patient Age</th>\n",
       "      <th>Occupancy</th>\n",
       "      <th>% occupancy</th>\n",
       "    </tr>\n",
       "  </thead>\n",
       "  <tbody>\n",
       "    <tr>\n",
       "      <td>count</td>\n",
       "      <td>1260.000000</td>\n",
       "      <td>1260.000000</td>\n",
       "      <td>1260.000000</td>\n",
       "      <td>1260.000000</td>\n",
       "      <td>1260.000000</td>\n",
       "      <td>1260.000000</td>\n",
       "      <td>1260.000000</td>\n",
       "      <td>1260.000000</td>\n",
       "      <td>1260.000000</td>\n",
       "    </tr>\n",
       "    <tr>\n",
       "      <td>mean</td>\n",
       "      <td>3.500000</td>\n",
       "      <td>105.500000</td>\n",
       "      <td>87.666667</td>\n",
       "      <td>43.642063</td>\n",
       "      <td>30.919841</td>\n",
       "      <td>30.780159</td>\n",
       "      <td>44.378571</td>\n",
       "      <td>44.164286</td>\n",
       "      <td>50.236798</td>\n",
       "    </tr>\n",
       "    <tr>\n",
       "      <td>std</td>\n",
       "      <td>1.708503</td>\n",
       "      <td>60.645161</td>\n",
       "      <td>8.753077</td>\n",
       "      <td>20.167991</td>\n",
       "      <td>17.998652</td>\n",
       "      <td>14.437235</td>\n",
       "      <td>20.570158</td>\n",
       "      <td>20.710321</td>\n",
       "      <td>22.457510</td>\n",
       "    </tr>\n",
       "    <tr>\n",
       "      <td>min</td>\n",
       "      <td>1.000000</td>\n",
       "      <td>1.000000</td>\n",
       "      <td>76.000000</td>\n",
       "      <td>-5.000000</td>\n",
       "      <td>1.000000</td>\n",
       "      <td>1.000000</td>\n",
       "      <td>10.000000</td>\n",
       "      <td>-8.000000</td>\n",
       "      <td>-10.256000</td>\n",
       "    </tr>\n",
       "    <tr>\n",
       "      <td>25%</td>\n",
       "      <td>2.000000</td>\n",
       "      <td>53.000000</td>\n",
       "      <td>78.000000</td>\n",
       "      <td>30.000000</td>\n",
       "      <td>18.000000</td>\n",
       "      <td>19.000000</td>\n",
       "      <td>26.000000</td>\n",
       "      <td>28.000000</td>\n",
       "      <td>33.333000</td>\n",
       "    </tr>\n",
       "    <tr>\n",
       "      <td>50%</td>\n",
       "      <td>3.500000</td>\n",
       "      <td>105.500000</td>\n",
       "      <td>88.000000</td>\n",
       "      <td>44.000000</td>\n",
       "      <td>29.000000</td>\n",
       "      <td>30.000000</td>\n",
       "      <td>43.000000</td>\n",
       "      <td>43.000000</td>\n",
       "      <td>50.000000</td>\n",
       "    </tr>\n",
       "    <tr>\n",
       "      <td>75%</td>\n",
       "      <td>5.000000</td>\n",
       "      <td>158.000000</td>\n",
       "      <td>96.000000</td>\n",
       "      <td>58.000000</td>\n",
       "      <td>39.000000</td>\n",
       "      <td>42.000000</td>\n",
       "      <td>62.000000</td>\n",
       "      <td>57.000000</td>\n",
       "      <td>66.000000</td>\n",
       "    </tr>\n",
       "    <tr>\n",
       "      <td>max</td>\n",
       "      <td>6.000000</td>\n",
       "      <td>210.000000</td>\n",
       "      <td>100.000000</td>\n",
       "      <td>98.000000</td>\n",
       "      <td>96.000000</td>\n",
       "      <td>95.000000</td>\n",
       "      <td>80.000000</td>\n",
       "      <td>101.000000</td>\n",
       "      <td>105.208000</td>\n",
       "    </tr>\n",
       "  </tbody>\n",
       "</table>\n",
       "</div>"
      ],
      "text/plain": [
       "       HospitalName          Day  Total ICU Bed  Available Bed  \\\n",
       "count   1260.000000  1260.000000    1260.000000    1260.000000   \n",
       "mean       3.500000   105.500000      87.666667      43.642063   \n",
       "std        1.708503    60.645161       8.753077      20.167991   \n",
       "min        1.000000     1.000000      76.000000      -5.000000   \n",
       "25%        2.000000    53.000000      78.000000      30.000000   \n",
       "50%        3.500000   105.500000      88.000000      44.000000   \n",
       "75%        5.000000   158.000000      96.000000      58.000000   \n",
       "max        6.000000   210.000000     100.000000      98.000000   \n",
       "\n",
       "       Patient admitted  Pateint discharged  Avg. Patient Age    Occupancy  \\\n",
       "count       1260.000000         1260.000000       1260.000000  1260.000000   \n",
       "mean          30.919841           30.780159         44.378571    44.164286   \n",
       "std           17.998652           14.437235         20.570158    20.710321   \n",
       "min            1.000000            1.000000         10.000000    -8.000000   \n",
       "25%           18.000000           19.000000         26.000000    28.000000   \n",
       "50%           29.000000           30.000000         43.000000    43.000000   \n",
       "75%           39.000000           42.000000         62.000000    57.000000   \n",
       "max           96.000000           95.000000         80.000000   101.000000   \n",
       "\n",
       "       % occupancy  \n",
       "count  1260.000000  \n",
       "mean     50.236798  \n",
       "std      22.457510  \n",
       "min     -10.256000  \n",
       "25%      33.333000  \n",
       "50%      50.000000  \n",
       "75%      66.000000  \n",
       "max     105.208000  "
      ]
     },
     "execution_count": 373,
     "metadata": {},
     "output_type": "execute_result"
    }
   ],
   "source": [
    "df.describe(include='all')"
   ]
  },
  {
   "cell_type": "code",
   "execution_count": 374,
   "metadata": {},
   "outputs": [
    {
     "data": {
      "text/plain": [
       "HospitalName          0\n",
       "Day                   0\n",
       "Total ICU Bed         0\n",
       "Available Bed         0\n",
       "Patient admitted      0\n",
       "Pateint discharged    0\n",
       "Avg. Patient Age      0\n",
       "Occupancy             0\n",
       "% occupancy           0\n",
       "dtype: int64"
      ]
     },
     "execution_count": 374,
     "metadata": {},
     "output_type": "execute_result"
    }
   ],
   "source": [
    "df.isnull().sum()"
   ]
  },
  {
   "cell_type": "code",
   "execution_count": 375,
   "metadata": {},
   "outputs": [
    {
     "data": {
      "text/plain": [
       "HospitalName            int64\n",
       "Day                     int64\n",
       "Total ICU Bed           int64\n",
       "Available Bed           int64\n",
       "Patient admitted        int64\n",
       "Pateint discharged      int64\n",
       "Avg. Patient Age        int64\n",
       "Occupancy               int64\n",
       "% occupancy           float64\n",
       "dtype: object"
      ]
     },
     "execution_count": 375,
     "metadata": {},
     "output_type": "execute_result"
    }
   ],
   "source": [
    "df.dtypes"
   ]
  },
  {
   "cell_type": "code",
   "execution_count": 376,
   "metadata": {},
   "outputs": [
    {
     "data": {
      "text/html": [
       "<div>\n",
       "<style scoped>\n",
       "    .dataframe tbody tr th:only-of-type {\n",
       "        vertical-align: middle;\n",
       "    }\n",
       "\n",
       "    .dataframe tbody tr th {\n",
       "        vertical-align: top;\n",
       "    }\n",
       "\n",
       "    .dataframe thead th {\n",
       "        text-align: right;\n",
       "    }\n",
       "</style>\n",
       "<table border=\"1\" class=\"dataframe\">\n",
       "  <thead>\n",
       "    <tr style=\"text-align: right;\">\n",
       "      <th></th>\n",
       "      <th>data_type</th>\n",
       "      <th>null_count</th>\n",
       "      <th>unique_count</th>\n",
       "    </tr>\n",
       "  </thead>\n",
       "  <tbody>\n",
       "    <tr>\n",
       "      <td>HospitalName</td>\n",
       "      <td>int64</td>\n",
       "      <td>0</td>\n",
       "      <td>6</td>\n",
       "    </tr>\n",
       "    <tr>\n",
       "      <td>Day</td>\n",
       "      <td>int64</td>\n",
       "      <td>0</td>\n",
       "      <td>210</td>\n",
       "    </tr>\n",
       "    <tr>\n",
       "      <td>Total ICU Bed</td>\n",
       "      <td>int64</td>\n",
       "      <td>0</td>\n",
       "      <td>6</td>\n",
       "    </tr>\n",
       "    <tr>\n",
       "      <td>Available Bed</td>\n",
       "      <td>int64</td>\n",
       "      <td>0</td>\n",
       "      <td>99</td>\n",
       "    </tr>\n",
       "    <tr>\n",
       "      <td>Patient admitted</td>\n",
       "      <td>int64</td>\n",
       "      <td>0</td>\n",
       "      <td>83</td>\n",
       "    </tr>\n",
       "    <tr>\n",
       "      <td>Pateint discharged</td>\n",
       "      <td>int64</td>\n",
       "      <td>0</td>\n",
       "      <td>76</td>\n",
       "    </tr>\n",
       "    <tr>\n",
       "      <td>Avg. Patient Age</td>\n",
       "      <td>int64</td>\n",
       "      <td>0</td>\n",
       "      <td>71</td>\n",
       "    </tr>\n",
       "    <tr>\n",
       "      <td>Occupancy</td>\n",
       "      <td>int64</td>\n",
       "      <td>0</td>\n",
       "      <td>102</td>\n",
       "    </tr>\n",
       "    <tr>\n",
       "      <td>% occupancy</td>\n",
       "      <td>float64</td>\n",
       "      <td>0</td>\n",
       "      <td>420</td>\n",
       "    </tr>\n",
       "  </tbody>\n",
       "</table>\n",
       "</div>"
      ],
      "text/plain": [
       "                   data_type  null_count  unique_count\n",
       "HospitalName           int64           0             6\n",
       "Day                    int64           0           210\n",
       "Total ICU Bed          int64           0             6\n",
       "Available Bed          int64           0            99\n",
       "Patient admitted       int64           0            83\n",
       "Pateint discharged     int64           0            76\n",
       "Avg. Patient Age       int64           0            71\n",
       "Occupancy              int64           0           102\n",
       "% occupancy          float64           0           420"
      ]
     },
     "execution_count": 376,
     "metadata": {},
     "output_type": "execute_result"
    }
   ],
   "source": [
    "temp = pd.DataFrame(index=df.columns)\n",
    "temp['data_type'] = df.dtypes\n",
    "temp['null_count'] = df.isnull().sum()\n",
    "temp['unique_count'] = df.nunique()\n",
    "temp"
   ]
  },
  {
   "cell_type": "code",
   "execution_count": 377,
   "metadata": {},
   "outputs": [
    {
     "data": {
      "text/plain": [
       "Text(0.5, 0, 'Patient admitted')"
      ]
     },
     "execution_count": 377,
     "metadata": {},
     "output_type": "execute_result"
    },
    {
     "data": {
      "image/png": "[encoded data removed]",
      "text/plain": [
       "<Figure size 432x288 with 1 Axes>"
      ]
     },
     "metadata": {
      "needs_background": "light"
     },
     "output_type": "display_data"
    }
   ],
   "source": [
    "df['Patient admitted'].plot.hist(bins = 50)\n",
    "plt.xlabel('Patient admitted', fontsize=12)"
   ]
  },
  {
   "cell_type": "code",
   "execution_count": 378,
   "metadata": {},
   "outputs": [
    {
     "data": {
      "text/plain": [
       "Text(0.5, 0, 'Pateint discharged')"
      ]
     },
     "execution_count": 378,
     "metadata": {},
     "output_type": "execute_result"
    },
    {
     "data": {
      "image/png": "[encoded data removed]",
      "text/plain": [
       "<Figure size 432x288 with 1 Axes>"
      ]
     },
     "metadata": {
      "needs_background": "light"
     },
     "output_type": "display_data"
    }
   ],
   "source": [
    "df['Pateint discharged'].plot.hist(bins = 50)\n",
    "plt.xlabel('Pateint discharged', fontsize=12)"
   ]
  },
  {
   "cell_type": "code",
   "execution_count": 379,
   "metadata": {},
   "outputs": [
    {
     "data": {
      "text/html": [
       "<div>\n",
       "<style scoped>\n",
       "    .dataframe tbody tr th:only-of-type {\n",
       "        vertical-align: middle;\n",
       "    }\n",
       "\n",
       "    .dataframe tbody tr th {\n",
       "        vertical-align: top;\n",
       "    }\n",
       "\n",
       "    .dataframe thead th {\n",
       "        text-align: right;\n",
       "    }\n",
       "</style>\n",
       "<table border=\"1\" class=\"dataframe\">\n",
       "  <thead>\n",
       "    <tr style=\"text-align: right;\">\n",
       "      <th></th>\n",
       "      <th>HospitalName</th>\n",
       "      <th>Day</th>\n",
       "      <th>Total ICU Bed</th>\n",
       "      <th>Available Bed</th>\n",
       "      <th>Patient admitted</th>\n",
       "      <th>Pateint discharged</th>\n",
       "      <th>Avg. Patient Age</th>\n",
       "      <th>Occupancy</th>\n",
       "      <th>% occupancy</th>\n",
       "    </tr>\n",
       "  </thead>\n",
       "  <tbody>\n",
       "    <tr>\n",
       "      <td>0</td>\n",
       "      <td>1</td>\n",
       "      <td>1</td>\n",
       "      <td>76</td>\n",
       "      <td>50</td>\n",
       "      <td>5</td>\n",
       "      <td>17</td>\n",
       "      <td>41</td>\n",
       "      <td>14</td>\n",
       "      <td>18.421</td>\n",
       "    </tr>\n",
       "    <tr>\n",
       "      <td>1</td>\n",
       "      <td>1</td>\n",
       "      <td>2</td>\n",
       "      <td>76</td>\n",
       "      <td>62</td>\n",
       "      <td>10</td>\n",
       "      <td>9</td>\n",
       "      <td>30</td>\n",
       "      <td>15</td>\n",
       "      <td>19.737</td>\n",
       "    </tr>\n",
       "    <tr>\n",
       "      <td>2</td>\n",
       "      <td>1</td>\n",
       "      <td>3</td>\n",
       "      <td>76</td>\n",
       "      <td>61</td>\n",
       "      <td>6</td>\n",
       "      <td>8</td>\n",
       "      <td>30</td>\n",
       "      <td>13</td>\n",
       "      <td>17.105</td>\n",
       "    </tr>\n",
       "    <tr>\n",
       "      <td>3</td>\n",
       "      <td>1</td>\n",
       "      <td>4</td>\n",
       "      <td>76</td>\n",
       "      <td>63</td>\n",
       "      <td>8</td>\n",
       "      <td>10</td>\n",
       "      <td>51</td>\n",
       "      <td>11</td>\n",
       "      <td>14.474</td>\n",
       "    </tr>\n",
       "    <tr>\n",
       "      <td>4</td>\n",
       "      <td>1</td>\n",
       "      <td>5</td>\n",
       "      <td>76</td>\n",
       "      <td>65</td>\n",
       "      <td>13</td>\n",
       "      <td>7</td>\n",
       "      <td>55</td>\n",
       "      <td>17</td>\n",
       "      <td>22.368</td>\n",
       "    </tr>\n",
       "    <tr>\n",
       "      <td>...</td>\n",
       "      <td>...</td>\n",
       "      <td>...</td>\n",
       "      <td>...</td>\n",
       "      <td>...</td>\n",
       "      <td>...</td>\n",
       "      <td>...</td>\n",
       "      <td>...</td>\n",
       "      <td>...</td>\n",
       "      <td>...</td>\n",
       "    </tr>\n",
       "    <tr>\n",
       "      <td>1255</td>\n",
       "      <td>6</td>\n",
       "      <td>206</td>\n",
       "      <td>96</td>\n",
       "      <td>51</td>\n",
       "      <td>48</td>\n",
       "      <td>54</td>\n",
       "      <td>35</td>\n",
       "      <td>39</td>\n",
       "      <td>40.625</td>\n",
       "    </tr>\n",
       "    <tr>\n",
       "      <td>1256</td>\n",
       "      <td>6</td>\n",
       "      <td>207</td>\n",
       "      <td>96</td>\n",
       "      <td>57</td>\n",
       "      <td>12</td>\n",
       "      <td>19</td>\n",
       "      <td>21</td>\n",
       "      <td>32</td>\n",
       "      <td>33.333</td>\n",
       "    </tr>\n",
       "    <tr>\n",
       "      <td>1257</td>\n",
       "      <td>6</td>\n",
       "      <td>208</td>\n",
       "      <td>96</td>\n",
       "      <td>64</td>\n",
       "      <td>45</td>\n",
       "      <td>51</td>\n",
       "      <td>37</td>\n",
       "      <td>26</td>\n",
       "      <td>27.083</td>\n",
       "    </tr>\n",
       "    <tr>\n",
       "      <td>1258</td>\n",
       "      <td>6</td>\n",
       "      <td>209</td>\n",
       "      <td>96</td>\n",
       "      <td>70</td>\n",
       "      <td>75</td>\n",
       "      <td>65</td>\n",
       "      <td>29</td>\n",
       "      <td>36</td>\n",
       "      <td>37.500</td>\n",
       "    </tr>\n",
       "    <tr>\n",
       "      <td>1259</td>\n",
       "      <td>6</td>\n",
       "      <td>210</td>\n",
       "      <td>96</td>\n",
       "      <td>60</td>\n",
       "      <td>65</td>\n",
       "      <td>24</td>\n",
       "      <td>51</td>\n",
       "      <td>77</td>\n",
       "      <td>80.208</td>\n",
       "    </tr>\n",
       "  </tbody>\n",
       "</table>\n",
       "<p>1260 rows × 9 columns</p>\n",
       "</div>"
      ],
      "text/plain": [
       "      HospitalName  Day  Total ICU Bed  Available Bed  Patient admitted  \\\n",
       "0                1    1             76             50                 5   \n",
       "1                1    2             76             62                10   \n",
       "2                1    3             76             61                 6   \n",
       "3                1    4             76             63                 8   \n",
       "4                1    5             76             65                13   \n",
       "...            ...  ...            ...            ...               ...   \n",
       "1255             6  206             96             51                48   \n",
       "1256             6  207             96             57                12   \n",
       "1257             6  208             96             64                45   \n",
       "1258             6  209             96             70                75   \n",
       "1259             6  210             96             60                65   \n",
       "\n",
       "      Pateint discharged  Avg. Patient Age  Occupancy  % occupancy  \n",
       "0                     17                41         14       18.421  \n",
       "1                      9                30         15       19.737  \n",
       "2                      8                30         13       17.105  \n",
       "3                     10                51         11       14.474  \n",
       "4                      7                55         17       22.368  \n",
       "...                  ...               ...        ...          ...  \n",
       "1255                  54                35         39       40.625  \n",
       "1256                  19                21         32       33.333  \n",
       "1257                  51                37         26       27.083  \n",
       "1258                  65                29         36       37.500  \n",
       "1259                  24                51         77       80.208  \n",
       "\n",
       "[1260 rows x 9 columns]"
      ]
     },
     "execution_count": 379,
     "metadata": {},
     "output_type": "execute_result"
    }
   ],
   "source": [
    "df.drop_duplicates()"
   ]
  },
  {
   "cell_type": "code",
   "execution_count": 380,
   "metadata": {},
   "outputs": [
    {
     "data": {
      "text/plain": [
       "<matplotlib.axes._subplots.AxesSubplot at 0x1f0f5bf8748>"
      ]
     },
     "execution_count": 380,
     "metadata": {},
     "output_type": "execute_result"
    },
    {
     "data": {
      "image/png": "[encoded data removed]",
      "text/plain": [
       "<Figure size 432x288 with 1 Axes>"
      ]
     },
     "metadata": {
      "needs_background": "light"
     },
     "output_type": "display_data"
    }
   ],
   "source": [
    "df.plot.scatter('Day','Occupancy')"
   ]
  },
  {
   "cell_type": "code",
   "execution_count": 381,
   "metadata": {},
   "outputs": [
    {
     "data": {
      "text/plain": [
       "<matplotlib.axes._subplots.AxesSubplot at 0x1f0f61a0c48>"
      ]
     },
     "execution_count": 381,
     "metadata": {},
     "output_type": "execute_result"
    },
    {
     "data": {
      "image/png": "[encoded data removed]",
      "text/plain": [
       "<Figure size 432x288 with 1 Axes>"
      ]
     },
     "metadata": {
      "needs_background": "light"
     },
     "output_type": "display_data"
    }
   ],
   "source": [
    "df.plot.bar('Day','Occupancy')"
   ]
  },
  {
   "cell_type": "code",
   "execution_count": 382,
   "metadata": {},
   "outputs": [
    {
     "data": {
      "text/plain": [
       "HospitalName          0.062550\n",
       "Day                  -0.041170\n",
       "Total ICU Bed         0.269820\n",
       "Available Bed        -0.540609\n",
       "Patient admitted      0.328696\n",
       "Pateint discharged   -0.105941\n",
       "Avg. Patient Age      0.021055\n",
       "Occupancy             1.000000\n",
       "% occupancy           0.973276\n",
       "Name: Occupancy, dtype: float64"
      ]
     },
     "execution_count": 382,
     "metadata": {},
     "output_type": "execute_result"
    }
   ],
   "source": [
    "df.corr()['Occupancy']"
   ]
  },
  {
   "cell_type": "code",
   "execution_count": 383,
   "metadata": {},
   "outputs": [
    {
     "data": {
      "text/plain": [
       "0       14\n",
       "1       15\n",
       "2       13\n",
       "3       11\n",
       "4       17\n",
       "        ..\n",
       "1255    39\n",
       "1256    32\n",
       "1257    26\n",
       "1258    36\n",
       "1259    77\n",
       "Name: Occupancy, Length: 1260, dtype: int64"
      ]
     },
     "execution_count": 383,
     "metadata": {},
     "output_type": "execute_result"
    }
   ],
   "source": [
    "y=df['Occupancy']\n",
    "y"
   ]
  },
  {
   "cell_type": "code",
   "execution_count": 387,
   "metadata": {},
   "outputs": [
    {
     "data": {
      "text/html": [
       "<div>\n",
       "<style scoped>\n",
       "    .dataframe tbody tr th:only-of-type {\n",
       "        vertical-align: middle;\n",
       "    }\n",
       "\n",
       "    .dataframe tbody tr th {\n",
       "        vertical-align: top;\n",
       "    }\n",
       "\n",
       "    .dataframe thead th {\n",
       "        text-align: right;\n",
       "    }\n",
       "</style>\n",
       "<table border=\"1\" class=\"dataframe\">\n",
       "  <thead>\n",
       "    <tr style=\"text-align: right;\">\n",
       "      <th></th>\n",
       "      <th>Total ICU Bed</th>\n",
       "      <th>Available Bed</th>\n",
       "      <th>Patient admitted</th>\n",
       "      <th>Pateint discharged</th>\n",
       "      <th>Avg. Patient Age</th>\n",
       "    </tr>\n",
       "  </thead>\n",
       "  <tbody>\n",
       "    <tr>\n",
       "      <td>0</td>\n",
       "      <td>76</td>\n",
       "      <td>50</td>\n",
       "      <td>5</td>\n",
       "      <td>17</td>\n",
       "      <td>41</td>\n",
       "    </tr>\n",
       "    <tr>\n",
       "      <td>1</td>\n",
       "      <td>76</td>\n",
       "      <td>62</td>\n",
       "      <td>10</td>\n",
       "      <td>9</td>\n",
       "      <td>30</td>\n",
       "    </tr>\n",
       "    <tr>\n",
       "      <td>2</td>\n",
       "      <td>76</td>\n",
       "      <td>61</td>\n",
       "      <td>6</td>\n",
       "      <td>8</td>\n",
       "      <td>30</td>\n",
       "    </tr>\n",
       "    <tr>\n",
       "      <td>3</td>\n",
       "      <td>76</td>\n",
       "      <td>63</td>\n",
       "      <td>8</td>\n",
       "      <td>10</td>\n",
       "      <td>51</td>\n",
       "    </tr>\n",
       "    <tr>\n",
       "      <td>4</td>\n",
       "      <td>76</td>\n",
       "      <td>65</td>\n",
       "      <td>13</td>\n",
       "      <td>7</td>\n",
       "      <td>55</td>\n",
       "    </tr>\n",
       "    <tr>\n",
       "      <td>...</td>\n",
       "      <td>...</td>\n",
       "      <td>...</td>\n",
       "      <td>...</td>\n",
       "      <td>...</td>\n",
       "      <td>...</td>\n",
       "    </tr>\n",
       "    <tr>\n",
       "      <td>1255</td>\n",
       "      <td>96</td>\n",
       "      <td>51</td>\n",
       "      <td>48</td>\n",
       "      <td>54</td>\n",
       "      <td>35</td>\n",
       "    </tr>\n",
       "    <tr>\n",
       "      <td>1256</td>\n",
       "      <td>96</td>\n",
       "      <td>57</td>\n",
       "      <td>12</td>\n",
       "      <td>19</td>\n",
       "      <td>21</td>\n",
       "    </tr>\n",
       "    <tr>\n",
       "      <td>1257</td>\n",
       "      <td>96</td>\n",
       "      <td>64</td>\n",
       "      <td>45</td>\n",
       "      <td>51</td>\n",
       "      <td>37</td>\n",
       "    </tr>\n",
       "    <tr>\n",
       "      <td>1258</td>\n",
       "      <td>96</td>\n",
       "      <td>70</td>\n",
       "      <td>75</td>\n",
       "      <td>65</td>\n",
       "      <td>29</td>\n",
       "    </tr>\n",
       "    <tr>\n",
       "      <td>1259</td>\n",
       "      <td>96</td>\n",
       "      <td>60</td>\n",
       "      <td>65</td>\n",
       "      <td>24</td>\n",
       "      <td>51</td>\n",
       "    </tr>\n",
       "  </tbody>\n",
       "</table>\n",
       "<p>1260 rows × 5 columns</p>\n",
       "</div>"
      ],
      "text/plain": [
       "      Total ICU Bed  Available Bed  Patient admitted  Pateint discharged  \\\n",
       "0                76             50                 5                  17   \n",
       "1                76             62                10                   9   \n",
       "2                76             61                 6                   8   \n",
       "3                76             63                 8                  10   \n",
       "4                76             65                13                   7   \n",
       "...             ...            ...               ...                 ...   \n",
       "1255             96             51                48                  54   \n",
       "1256             96             57                12                  19   \n",
       "1257             96             64                45                  51   \n",
       "1258             96             70                75                  65   \n",
       "1259             96             60                65                  24   \n",
       "\n",
       "      Avg. Patient Age  \n",
       "0                   41  \n",
       "1                   30  \n",
       "2                   30  \n",
       "3                   51  \n",
       "4                   55  \n",
       "...                ...  \n",
       "1255                35  \n",
       "1256                21  \n",
       "1257                37  \n",
       "1258                29  \n",
       "1259                51  \n",
       "\n",
       "[1260 rows x 5 columns]"
      ]
     },
     "execution_count": 387,
     "metadata": {},
     "output_type": "execute_result"
    }
   ],
   "source": [
    "x=df.drop(['HospitalName','Day','Occupancy','% occupancy'],axis=1)\n",
    "x"
   ]
  },
  {
   "cell_type": "markdown",
   "metadata": {},
   "source": [
    "# Taking input from User in an csv file."
   ]
  },
  {
   "cell_type": "code",
   "execution_count": 364,
   "metadata": {},
   "outputs": [
    {
     "name": "stdout",
     "output_type": "stream",
     "text": [
      "   HospitalName  Day  Total ICU Bed  Available Bed  Patient admitted  \\\n",
      "0             3  220             76             60                 4   \n",
      "1             2  250             65             15                21   \n",
      "\n",
      "   Pateint discharged  Avg. Patient Age  \n",
      "0                   7                25  \n",
      "1                  32                50  \n"
     ]
    }
   ],
   "source": [
    "featureDF = pd.read_csv(r'C:\\Users\\artiy\\Downloads\\icu bed occupancy - Sheet1 (4).csv')\n",
    "print(featureDF)\n",
    "a=np.array(featureDF)"
   ]
  },
  {
   "cell_type": "markdown",
   "metadata": {},
   "source": [
    "# Taking input dataframe from user."
   ]
  },
  {
   "cell_type": "code",
   "execution_count": 388,
   "metadata": {},
   "outputs": [
    {
     "name": "stdout",
     "output_type": "stream",
     "text": [
      "Enter the rows of inputs:1\n",
      "HospitalName3\n",
      "Day97\n",
      "Total ICU78\n",
      "Available bed67\n",
      "Patient Admitted5\n",
      "Patient Discharged8\n",
      "Avg. Patient Age45\n"
     ]
    }
   ],
   "source": [
    "featureDF = pd.DataFrame()\n",
    "inputRows = int(input(\"Enter the rows of inputs:\"))\n",
    "\n",
    "for _ in range(inputRows):\n",
    "    HospitalName = int(input(\"HospitalName: \"))\n",
    "    Day = int(input(\"Day: \"))\n",
    "    Total_ICU = int(input(\"Total ICU: \"))\n",
    "    Available_Bed = int(input(\"Available bed: \"))\n",
    "    Patient_Admitted = int(input(\"Patient Admitted: \"))\n",
    "    Patient_Discharged = int(input(\"Patient Discharged: \"))\n",
    "    Avg_Patient_Age = int(input(\"Avg. Patient Age: \"))\n",
    "    \n",
    "    df1 = pd.DataFrame(data=[[HospitalName, Day, Total_ICU, Available_Bed, Patient_Admitted, Patient_Discharged, Avg_Patient_Age]],columns=[\"HospitalName\", \"Day\", \"Total ICU\", \"Available Bed\", \"Patient admitted\", \"Patient discharged\", \"Avg. Patient Age\"])\n",
    "    featureDF = pd.concat([featureDF,df1], axis=0)\n",
    "\n",
    "a=np.array(featureDF)"
   ]
  },
  {
   "cell_type": "markdown",
   "metadata": {},
   "source": [
    "# Logic"
   ]
  },
  {
   "cell_type": "code",
   "execution_count": 392,
   "metadata": {},
   "outputs": [
    {
     "name": "stdout",
     "output_type": "stream",
     "text": [
      "For Hospital 3\n",
      "Total Beds: 90\n",
      "accuracy:  97 %\n",
      "Occupancy: 20\n",
      "% Occupancy: 22 %\n",
      "Free Beds Available: 70\n",
      "\n"
     ]
    }
   ],
   "source": [
    "\n",
    "for i in range(len(a)):\n",
    "    #p is hospital number\n",
    "    p=a[i][0]\n",
    "    \n",
    "    #creating df with only single hospital data\n",
    "    hos = df.loc[df['HospitalName'] ==p]\n",
    "    \n",
    "    #creating values for X and Y\n",
    "    y=hos['Occupancy']\n",
    "    x=hos.drop(['HospitalName','Day','Occupancy','% occupancy'],axis=1)\n",
    "    \n",
    "    #spliting data into train/test data\n",
    "    from sklearn.model_selection import train_test_split\n",
    "    x_train,x_test,y_train,y_test=train_test_split(x,y,random_state=0,test_size=0.2)\n",
    "    \n",
    "    from sklearn.ensemble import RandomForestRegressor\n",
    "    # create regressor object\n",
    "    regressor = RandomForestRegressor(n_estimators = 100, random_state = 0)\n",
    "    \n",
    "    # fit the regressor with x and y data\n",
    "    regressor.fit(x, y) \n",
    "        #predicting test values\n",
    "    y_pred1=regressor.predict(x_test)\n",
    "        #predicting hospital values\n",
    "    y_pred2=regressor.predict([a[i][2:]])\n",
    "    \n",
    "    # Output\n",
    "    from sklearn.metrics import r2_score\n",
    "    print(\"For Hospital\", p)\n",
    "    Total_beds = hos['Total ICU Bed'].max()  \n",
    "    print(\"Total Beds:\", Total_beds)\n",
    "    print(\"accuracy: \",int((r2_score(y_test,y_pred1))*100), \"%\")\n",
    "    print(\"Occupancy:\",int(y_pred2))\n",
    "    print(\"% Occupancy:\", int((int(y_pred2)/Total_beds)*100), \"%\")\n",
    "    print(\"Free Beds Available:\", Total_beds-int(y_pred2))\n",
    "    print()\n",
    "    "
   ]
  },
  {
   "cell_type": "code",
   "execution_count": null,
   "metadata": {},
   "outputs": [],
   "source": []
  }
 ],
 "metadata": {
  "kernelspec": {
   "display_name": "Python 3",
   "language": "python",
   "name": "python3"
  },
  "language_info": {
   "codemirror_mode": {
    "name": "ipython",
    "version": 3
   },
   "file_extension": ".py",
   "mimetype": "text/x-python",
   "name": "python",
   "nbconvert_exporter": "python",
   "pygments_lexer": "ipython3",
   "version": "3.7.4"
  }
 },
 "nbformat": 4,
 "nbformat_minor": 5
}
